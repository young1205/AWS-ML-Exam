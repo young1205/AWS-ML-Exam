{
 "cells": [
  {
   "cell_type": "code",
   "execution_count": 1,
   "id": "59b1bee2-823a-4c08-9b56-41a287218393",
   "metadata": {},
   "outputs": [
    {
     "name": "stdout",
     "output_type": "stream",
     "text": [
      "x\n"
     ]
    }
   ],
   "source": [
    "print(\"x\")"
   ]
  },
  {
   "cell_type": "code",
   "execution_count": 2,
   "id": "d60ad64b-2b6a-4eec-b2af-17c8fc1fe403",
   "metadata": {},
   "outputs": [
    {
     "name": "stdout",
     "output_type": "stream",
     "text": [
      "   Name  Age\n",
      "0   tom   10\n",
      "1  nick   15\n",
      "2  juli   14\n"
     ]
    }
   ],
   "source": [
    "# Import pandas library\n",
    "import pandas as pd\n",
    "\n",
    "# initialize list of lists\n",
    "data = [['tom', 10], ['nick', 15], ['juli', 14]]\n",
    "\n",
    "# Create the pandas DataFrame\n",
    "df = pd.DataFrame(data, columns=['Name', 'Age'])\n",
    "\n",
    "# print dataframe.\n",
    "print(df)"
   ]
  },
  {
   "cell_type": "code",
   "execution_count": 2,
   "id": "91d4c58f-da1f-4a7b-b332-73ed48aaac52",
   "metadata": {},
   "outputs": [
    {
     "name": "stdout",
     "output_type": "stream",
     "text": [
      "                 Name                                         Definition  \\\n",
      "0  Amazon Rekognition  Amazon Rekognition is a cloud-based service by...   \n",
      "1     Amazon Textract  Amazon Textract is a machine learning service ...   \n",
      "2   Amazon Transcribe  Amazon Transcribe is a speech-to-text service ...   \n",
      "\n",
      "  Notes Catagory  \n",
      "0                 \n",
      "1                 \n",
      "2                 \n"
     ]
    }
   ],
   "source": [
    "import pandas as pd\n",
    "\n",
    "\n",
    "columns = ['Name','Definition','Notes','Catagory']\n",
    "t1 = 'Amazon Rekognition is a cloud-based service by AWS that analyzes images and videos using deep learning.' + 'It identifies objects, people, text, and activities, and can detect facial features and emotions. Its widely' + 'used for security, content moderation, and enhancing user experiences through easy API integration.'\n",
    "v1 = ['Amazon Rekognition',t1,'','']\n",
    "\n",
    "\n",
    "n1 = 'Amazon Rekognition'\n",
    "n2 = 'Amazon Textract'\n",
    "n3 = 'Amazon Transcribe'\n",
    "n4 = 'Amazon Translate'\n",
    "n5 = 'Amazon Polly'\n",
    "n6 = 'Amazon Lex'\n",
    "n7 = 'Amazon Kendra'\n",
    "n8 = 'Amazon Personalize'\n",
    "\n",
    "t1 = 'Amazon Rekognition is a cloud-based service by AWS that analyzes images and videos using deep learning.' + 'It identifies objects, people, text, and activities, and can detect facial features and emotions. Its widely' + 'used for security, content moderation, and enhancing user experiences through easy API integration.'\n",
    "t2 = 'Amazon Textract is a machine learning service from AWS that automatically extracts text and data from scanned documents. It goes beyond simple optical character recognition (OCR) by understanding the layout and structure of documents, enabling users to retrieve key information from forms, tables, and other content. Textract is useful for automating data entry, document analysis, and improving workflows in various applications.'\n",
    "t3 = 'Amazon Transcribe is a speech-to-text service from AWS that converts audio and video files into written text. It uses advanced machine learning to accurately transcribe conversations, including support for multiple speakers and specialized vocabulary. Transcribe is ideal for applications like customer service, content creation, and accessibility, making it easier to analyze and search audio content.'\n",
    "\n",
    "v1 = [n1,t1,'','']\n",
    "v2 = [n2,t2,'','']\n",
    "v3 = [n3,t3,'','']\n",
    "\n",
    "data = [v1,v2,v3]\n",
    "# Create the pandas DataFrame\n",
    "df = pd.DataFrame(data, columns=['Name','Definition','Notes','Catagory'])\n",
    "\n",
    "# print dataframe.\n",
    "print(df)\n",
    "\n"
   ]
  },
  {
   "cell_type": "code",
   "execution_count": 3,
   "id": "7bae9c19-fd16-4ce1-bc0b-f303c04bf73c",
   "metadata": {},
   "outputs": [
    {
     "name": "stdout",
     "output_type": "stream",
     "text": [
      "\\begin{table}[htbp]\n",
      "\\caption{Comparison of ML Model Performance Metrics}\n",
      "\\label{tab:model_comparison}\n",
      "\\begin{tabular}{|l|l|l|l|}\n",
      "\\toprule\n",
      "Name & Definition & Notes & Catagory \\\\\n",
      "\\midrule\n",
      "Amazon Rekognition & Amazon Rekognition is a cloud-based service by AWS that analyzes images and videos using deep learning.It identifies objects, people, text, and activities, and can detect facial features and emotions. Its widelyused for security, content moderation, and enhancing user experiences through easy API integration. &  &  \\\\\n",
      "Amazon Textract & Amazon Textract is a machine learning service from AWS that automatically extracts text and data from scanned documents. It goes beyond simple optical character recognition (OCR) by understanding the layout and structure of documents, enabling users to retrieve key information from forms, tables, and other content. Textract is useful for automating data entry, document analysis, and improving workflows in various applications. &  &  \\\\\n",
      "Amazon Transcribe & Amazon Transcribe is a speech-to-text service from AWS that converts audio and video files into written text. It uses advanced machine learning to accurately transcribe conversations, including support for multiple speakers and specialized vocabulary. Transcribe is ideal for applications like customer service, content creation, and accessibility, making it easier to analyze and search audio content. &  &  \\\\\n",
      "\\bottomrule\n",
      "\\end{tabular}\n",
      "\\end{table}\n",
      "\n"
     ]
    }
   ],
   "source": [
    "latex_table = df.to_latex(\n",
    "    index=False,  # To not include the DataFrame index as a column in the table\n",
    "    caption=\"Comparison of ML Model Performance Metrics\",  # The caption to appear above the table in the LaTeX document\n",
    "    label=\"tab:model_comparison\",  # A label used for referencing the table within the LaTeX document\n",
    "    position=\"htbp\",  # The preferred positions where the table should be placed in the document ('here', 'top', 'bottom', 'page')\n",
    "    column_format=\"|l|l|l|l|\",  # The format of the columns: left-aligned with vertical lines between them\n",
    "    escape=False,  # Disable escaping LaTeX special characters in the DataFrame\n",
    "    float_format=\"{:0.2f}\".format  # Formats floats to two decimal places\n",
    ")\n",
    "\n",
    "print(latex_table)"
   ]
  },
  {
   "cell_type": "code",
   "execution_count": null,
   "id": "fe398c2a-4c16-4294-8937-41f7ef2701c6",
   "metadata": {},
   "outputs": [],
   "source": []
  }
 ],
 "metadata": {
  "kernelspec": {
   "display_name": "Python 3 (ipykernel)",
   "language": "python",
   "name": "python3"
  },
  "language_info": {
   "codemirror_mode": {
    "name": "ipython",
    "version": 3
   },
   "file_extension": ".py",
   "mimetype": "text/x-python",
   "name": "python",
   "nbconvert_exporter": "python",
   "pygments_lexer": "ipython3",
   "version": "3.9.6"
  }
 },
 "nbformat": 4,
 "nbformat_minor": 5
}
